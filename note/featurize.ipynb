{
 "cells": [
  {
   "cell_type": "code",
   "execution_count": 1,
   "metadata": {},
   "outputs": [],
   "source": [
    "import numpy as np\n",
    "import biotite.structure as struc\n",
    "from biotite.structure.io.pdb import PDBFile"
   ]
  },
  {
   "cell_type": "code",
   "execution_count": 112,
   "metadata": {},
   "outputs": [
    {
     "name": "stderr",
     "output_type": "stream",
     "text": [
      "/data/project/dohoon/miniconda3/envs/torch/lib/python3.10/site-packages/biotite/structure/io/pdb/file.py:484: UserWarning: 723 elements were guessed from atom_name.\n",
      "  warnings.warn(\n"
     ]
    }
   ],
   "source": [
    "pdb = PDBFile.read('../data/dompdb/3nskB00.pdb')\n",
    "structure = pdb.get_structure(model=1)"
   ]
  },
  {
   "cell_type": "markdown",
   "metadata": {},
   "source": [
    "## Generating k-NN graph"
   ]
  },
  {
   "cell_type": "code",
   "execution_count": 113,
   "metadata": {},
   "outputs": [],
   "source": [
    "from scipy.spatial.distance import cdist\n",
    "\n",
    "def knn_edge_index(structure, k=30):\n",
    "    ca_coords = np.array([a.coord for a in structure if a.atom_name == 'CA'])\n",
    "    pdist = cdist(ca_coords, ca_coords, metric='euclidean')\n",
    "\n",
    "    topk_indices = pdist.argsort(axis=1)[:, 1:k+1]\n",
    "    edge_idx = np.array([[u, v] for u, neighbors in enumerate(topk_indices) for v in neighbors]).T\n",
    "\n",
    "    return edge_idx"
   ]
  },
  {
   "cell_type": "code",
   "execution_count": 114,
   "metadata": {},
   "outputs": [
    {
     "data": {
      "text/plain": [
       "array([[ 0,  0,  0, ..., 91, 91, 91],\n",
       "       [ 1,  3,  2, ..., 75, 76, 43]])"
      ]
     },
     "execution_count": 114,
     "metadata": {},
     "output_type": "execute_result"
    }
   ],
   "source": [
    "edge_idx = knn_edge_index(structure, k=30)\n",
    "edge_idx"
   ]
  },
  {
   "cell_type": "markdown",
   "metadata": {},
   "source": [
    "## Backbone frame"
   ]
  },
  {
   "cell_type": "code",
   "execution_count": 115,
   "metadata": {},
   "outputs": [],
   "source": [
    "def to_four_atom_coordinates(atoms):\n",
    "    coords = np.array([a.coord for a in atoms])\n",
    "    return coords.reshape(-1, 4, 3)\n",
    "\n",
    "four_atoms = [a for a in structure if a.atom_name in ['N', 'CA', 'C', 'O']]\n",
    "four_atom_coords = to_four_atom_coordinates(four_atoms) # (#res, 4, 3)\n",
    "\n",
    "N_IDX, CA_IDX, C_IDX, O_IDX = 0, 1, 2, 3"
   ]
  },
  {
   "cell_type": "code",
   "execution_count": 6,
   "metadata": {},
   "outputs": [],
   "source": [
    "u = four_atom_coords[:, CA_IDX] - four_atom_coords[:, N_IDX]\n",
    "v = four_atom_coords[:, C_IDX] - four_atom_coords[:, CA_IDX]\n",
    "\n",
    "b = (u - v) / np.linalg.norm((u - v), axis=-1, keepdims=True)\n",
    "\n",
    "n = np.cross(u, v)\n",
    "n = n / np.linalg.norm(n, axis=-1, keepdims=True)\n",
    "\n",
    "q = np.concatenate([\n",
    "    b[:, :, None],\n",
    "    n[:, :, None],\n",
    "    np.cross(b, n)[:, :, None],\n",
    "], axis=-1)"
   ]
  },
  {
   "cell_type": "markdown",
   "metadata": {},
   "source": [
    "## Node features\n",
    "\n",
    "### Distance features"
   ]
  },
  {
   "cell_type": "code",
   "execution_count": 8,
   "metadata": {},
   "outputs": [
    {
     "data": {
      "text/plain": [
       "(63, 96)"
      ]
     },
     "execution_count": 8,
     "metadata": {},
     "output_type": "execute_result"
    }
   ],
   "source": [
    "def rbf(dist, d_min=0, d_max=20, d_count=16):\n",
    "    d_mu = np.linspace(d_min, d_max, d_count).reshape(1, 1, 1, -1)\n",
    "    d_sigma = (d_max - d_min) / d_count\n",
    "    dist = dist[:, :, :, None]\n",
    "\n",
    "    return np.exp(-(dist - d_mu)**2 / (2 * d_sigma**2))\n",
    "\n",
    "four_atoms = [a for a in structure if a.atom_name in ['N', 'CA', 'C', 'O']]\n",
    "four_atom_coords = to_four_atom_coordinates(four_atoms) # (#res, 4, 3)\n",
    "\n",
    "dist = np.sqrt( ( (four_atom_coords[:, None, :, :] - four_atom_coords[:, :, None, :])**2 ).sum(axis=-1) )\n",
    "\n",
    "triu_indices = [1, 2, 3, 6, 7, 11]\n",
    "node_dist_feat = rbf(dist).reshape(-1, 4*4, 16)\n",
    "node_dist_feat = node_dist_feat[:, triu_indices, :].reshape(-1, 6 * 16)\n",
    "\n",
    "node_dist_feat.shape"
   ]
  },
  {
   "cell_type": "markdown",
   "metadata": {},
   "source": [
    "### Angle features"
   ]
  },
  {
   "cell_type": "code",
   "execution_count": 73,
   "metadata": {},
   "outputs": [
    {
     "data": {
      "text/plain": [
       "(63, 12)"
      ]
     },
     "execution_count": 73,
     "metadata": {},
     "output_type": "execute_result"
    }
   ],
   "source": [
    "phi, psi, omega = np.nan_to_num( struc.dihedral_backbone(structure), 0.0)\n",
    "\n",
    "# angles\n",
    "backbone = structure[struc.filter_backbone(structure)]\n",
    "n = len(backbone)\n",
    "\n",
    "triplet_indices = np.array([\n",
    "    np.arange(n-2),\n",
    "    np.arange(1, n-1),\n",
    "    np.arange(2, n)\n",
    "]).T\n",
    "\n",
    "theta1 = struc.index_angle(backbone, triplet_indices[range(0, n-2, 3)])\n",
    "theta2 = struc.index_angle(backbone, triplet_indices[range(1, n-2, 3)])\n",
    "theta3 = struc.index_angle(backbone, triplet_indices[range(2, n-2, 3)])\n",
    "\n",
    "node_angle_feat = np.array([\n",
    "    phi,\n",
    "    psi,\n",
    "    omega,\n",
    "    theta1,\n",
    "    np.hstack([theta2, 0.0]), # theta2 is not defined for the last residue\n",
    "    np.hstack([theta3, 0.0]), # theta3 is not defined for the last residue\n",
    "]).T\n",
    "\n",
    "node_angle_feat = np.concatenate([ np.cos(node_angle_feat), np.sin(node_angle_feat) ], axis=1)\n",
    "node_angle_feat.shape"
   ]
  },
  {
   "cell_type": "markdown",
   "metadata": {},
   "source": [
    "### Direction features"
   ]
  },
  {
   "cell_type": "code",
   "execution_count": 68,
   "metadata": {},
   "outputs": [
    {
     "data": {
      "text/plain": [
       "(63, 9)"
      ]
     },
     "execution_count": 68,
     "metadata": {},
     "output_type": "execute_result"
    }
   ],
   "source": [
    "node_direction_feat = []\n",
    "\n",
    "for atom_idx in [N_IDX, C_IDX, O_IDX]:\n",
    "    vec_to_ca = four_atom_coords[:, atom_idx] - four_atom_coords[:, CA_IDX]\n",
    "    vec_to_ca = vec_to_ca / np.linalg.norm(vec_to_ca, axis=1, keepdims=True) # Normalize\n",
    "    \n",
    "    direction_feature = (q.transpose(0, 2, 1) @ vec_to_ca[:, :, None]).squeeze(-1)\n",
    "    node_direction_feat.append( direction_feature )\n",
    "    \n",
    "node_direction_feat = np.concatenate(node_direction_feat, axis=-1)\n",
    "node_direction_feat.shape"
   ]
  },
  {
   "cell_type": "markdown",
   "metadata": {},
   "source": [
    "## Edge features\n",
    "\n",
    "### Distance features"
   ]
  },
  {
   "cell_type": "code",
   "execution_count": 11,
   "metadata": {},
   "outputs": [
    {
     "data": {
      "text/plain": [
       "(1890, 256)"
      ]
     },
     "execution_count": 11,
     "metadata": {},
     "output_type": "execute_result"
    }
   ],
   "source": [
    "four_atoms = [a for a in structure if a.atom_name in ['N', 'CA', 'C', 'O']]\n",
    "four_atom_coords = to_four_atom_coordinates(four_atoms) # (#res, 4, 3)\n",
    "src_idx, dst_idx = edge_idx[0], edge_idx[1]\n",
    "four_atom_coords_i, four_atom_coords_j = four_atom_coords[src_idx], four_atom_coords[dst_idx]\n",
    "dist = np.sqrt( ( (four_atom_coords_i[:, None, :, :] - four_atom_coords_j[:, :, None, :])**2 ).sum(axis=-1) )\n",
    "\n",
    "dist = rbf(dist)\n",
    "\n",
    "dist = dist.reshape(len(dist), -1)\n",
    "\n",
    "edge_dist_feat = dist\n",
    "edge_dist_feat"
   ]
  },
  {
   "cell_type": "markdown",
   "metadata": {},
   "source": [
    "### Angle features"
   ]
  },
  {
   "cell_type": "code",
   "execution_count": 28,
   "metadata": {},
   "outputs": [],
   "source": [
    "def rotmat_to_quat(r):\n",
    "    \"\"\"Returns quarternion (x, y, z, w) converted from rotation matrix R\n",
    "\n",
    "    R : (n, 3, 3) tensor\n",
    "    returns : (n, 4) tensor\n",
    "    \"\"\"\n",
    "    \n",
    "    xx, yy, zz = r[:, 0, 0], r[:, 1, 1], r[:, 2, 2]\n",
    "\n",
    "    q = 0.5 * np.sqrt(np.abs(1 + np.vstack([\n",
    "        + xx - yy - zz,\n",
    "        - xx + yy - zz,\n",
    "        - xx - yy + zz,\n",
    "        + xx + yy + zz,\n",
    "    ])))\n",
    "\n",
    "    sign = np.sign([\n",
    "        r[:, 2, 1] - r[:, 1, 2],\n",
    "        r[:, 0, 2] - r[:, 2, 0],\n",
    "        r[:, 1, 0] - r[:, 0, 1],\n",
    "        np.ones(len(r)),\n",
    "    ])\n",
    "\n",
    "    q = (sign * q).T\n",
    "    q = q / np.linalg.norm(q, axis=1, keepdims=True)\n",
    "\n",
    "    return q"
   ]
  },
  {
   "cell_type": "code",
   "execution_count": 13,
   "metadata": {},
   "outputs": [
    {
     "data": {
      "text/plain": [
       "array([[ 0.2       , -0.4       , -0.4       ,  0.8       ],\n",
       "       [-0.25881905,  0.        ,  0.        ,  0.96592583]])"
      ]
     },
     "execution_count": 13,
     "metadata": {},
     "output_type": "execute_result"
    }
   ],
   "source": [
    "np.random.seed(42)\n",
    "r = np.array([\n",
    "    [[0.36, 0.48, -0.80], [-0.80, 0.60, 0.00], [0.48, 0.64, 0.60]],\n",
    "    [[1, 0, 0], [0, np.cos(np.pi/6), np.sin(np.pi/6)], [0, -np.sin(np.pi/6), np.cos(np.pi/6)]]\n",
    "])\n",
    "\n",
    "my_q = rotmat_to_quat(r)\n",
    "my_q"
   ]
  },
  {
   "cell_type": "code",
   "execution_count": 14,
   "metadata": {},
   "outputs": [
    {
     "data": {
      "text/plain": [
       "array([[ 0.2       , -0.4       , -0.4       ,  0.8       ],\n",
       "       [-0.25881905,  0.        ,  0.        ,  0.96592583]])"
      ]
     },
     "execution_count": 14,
     "metadata": {},
     "output_type": "execute_result"
    }
   ],
   "source": [
    "# For reference\n",
    "from scipy.spatial.transform import Rotation as R\n",
    "R.from_matrix(r).as_quat()"
   ]
  },
  {
   "cell_type": "code",
   "execution_count": 36,
   "metadata": {},
   "outputs": [
    {
     "data": {
      "text/plain": [
       "array([[-0.04731181,  0.09597716, -0.9937651 ,  0.0313193 ],\n",
       "       [-0.50313843, -0.07937256,  0.76268471,  0.39857716],\n",
       "       [ 0.78711044,  0.15040974,  0.3231289 ,  0.50341015],\n",
       "       ...,\n",
       "       [ 0.61486383,  0.07530027, -0.34716595,  0.70409384],\n",
       "       [-0.34803187, -0.38594466, -0.66715424,  0.53369068],\n",
       "       [ 0.84844356, -0.11054408, -0.34265414,  0.38795834]])"
      ]
     },
     "execution_count": 36,
     "metadata": {},
     "output_type": "execute_result"
    }
   ],
   "source": [
    "qi, qj = q[edge_idx[0]], q[edge_idx[1]]\n",
    "quat = rotmat_to_quat(qi.transpose(0, 2, 1) @ qj) # x, y, z, w\n",
    "\n",
    "edge_angle_feat = quat\n",
    "edge_angle_feat"
   ]
  },
  {
   "cell_type": "code",
   "execution_count": 105,
   "metadata": {},
   "outputs": [],
   "source": [
    "tmp = struc.get_residues(structure)"
   ]
  },
  {
   "cell_type": "code",
   "execution_count": 110,
   "metadata": {},
   "outputs": [
    {
     "data": {
      "text/plain": [
       "(array([21, 22, 23, 24, 25, 26, 27, 28, 29, 30, 31, 32, 33, 34, 35, 36, 37,\n",
       "        38, 39, 40, 41, 42, 43, 44, 45, 46, 47, 48, 49, 50, 51, 52, 53, 54,\n",
       "        55, 56, 57, 58, 59, 60, 61, 62, 63, 64, 65, 66, 67, 68, 69, 70, 71,\n",
       "        72, 73, 74, 75, 76, 77, 78, 79, 80, 81, 82, 83]),\n",
       " array(['LYS', 'THR', 'GLU', 'TRP', 'PRO', 'GLU', 'LEU', 'VAL', 'GLY',\n",
       "        'LYS', 'SER', 'VAL', 'GLU', 'GLU', 'ALA', 'LYS', 'LYS', 'VAL',\n",
       "        'ILE', 'LEU', 'GLN', 'ASP', 'LYS', 'PRO', 'GLU', 'ALA', 'GLN',\n",
       "        'ILE', 'ILE', 'VAL', 'LEU', 'PRO', 'VAL', 'GLY', 'THR', 'ILE',\n",
       "        'VAL', 'THR', 'PRO', 'GLU', 'TYR', 'ARG', 'ILE', 'ASP', 'ARG',\n",
       "        'VAL', 'ARG', 'LEU', 'PHE', 'VAL', 'ASP', 'LYS', 'LEU', 'ASP',\n",
       "        'ASN', 'ILE', 'ALA', 'GLU', 'VAL', 'PRO', 'ARG', 'VAL', 'GLY'],\n",
       "       dtype='<U3'))"
      ]
     },
     "execution_count": 110,
     "metadata": {},
     "output_type": "execute_result"
    }
   ],
   "source": [
    "tmp"
   ]
  },
  {
   "cell_type": "markdown",
   "metadata": {},
   "source": [
    "### Direction feature"
   ]
  },
  {
   "cell_type": "code",
   "execution_count": 69,
   "metadata": {},
   "outputs": [
    {
     "data": {
      "text/plain": [
       "(1890, 9)"
      ]
     },
     "execution_count": 69,
     "metadata": {},
     "output_type": "execute_result"
    }
   ],
   "source": [
    "src_idx, dst_idx = edge_idx[0], edge_idx[1]\n",
    "\n",
    "qi = q[src_idx]\n",
    "four_atom_coords_i, four_atom_coords_j = four_atom_coords[src_idx], four_atom_coords[dst_idx]\n",
    "\n",
    "edge_direction_feat = []\n",
    "\n",
    "for atom_idx in [N_IDX, C_IDX, O_IDX]:\n",
    "    vec_to_ca = four_atom_coords_j[:, atom_idx] - four_atom_coords_i[:, CA_IDX]\n",
    "    vec_to_ca = vec_to_ca / np.linalg.norm(vec_to_ca, axis=1, keepdims=True) # Normalize\n",
    "    \n",
    "    direction_feature = (qi.transpose(0, 2, 1) @ vec_to_ca[:, :, None]).squeeze(-1)\n",
    "    edge_direction_feat.append( direction_feature )\n",
    "    \n",
    "edge_direction_feat = np.concatenate(edge_direction_feat, axis=-1)\n",
    "edge_direction_feat.shape"
   ]
  },
  {
   "cell_type": "code",
   "execution_count": null,
   "metadata": {},
   "outputs": [],
   "source": []
  }
 ],
 "metadata": {
  "kernelspec": {
   "display_name": "torch",
   "language": "python",
   "name": "torch"
  },
  "language_info": {
   "codemirror_mode": {
    "name": "ipython",
    "version": 3
   },
   "file_extension": ".py",
   "mimetype": "text/x-python",
   "name": "python",
   "nbconvert_exporter": "python",
   "pygments_lexer": "ipython3",
   "version": "3.10.10"
  }
 },
 "nbformat": 4,
 "nbformat_minor": 4
}
