{
 "cells": [
  {
   "cell_type": "code",
   "execution_count": 4,
   "metadata": {},
   "outputs": [],
   "source": [
    "import numpy as np\n",
    "import biotite.structure as struc\n",
    "from biotite.structure.io.pdb import PDBFile"
   ]
  },
  {
   "cell_type": "code",
   "execution_count": 5,
   "metadata": {},
   "outputs": [
    {
     "name": "stderr",
     "output_type": "stream",
     "text": [
      "/data/project/dohoon/miniconda3/envs/torch/lib/python3.10/site-packages/biotite/structure/io/pdb/file.py:484: UserWarning: 504 elements were guessed from atom_name.\n",
      "  warnings.warn(\n"
     ]
    }
   ],
   "source": [
    "pdb = PDBFile.read('1a10I00.pdb')\n",
    "structure = pdb.get_structure(model=1)"
   ]
  },
  {
   "attachments": {},
   "cell_type": "markdown",
   "metadata": {},
   "source": [
    "## Generating k-NN graph"
   ]
  },
  {
   "cell_type": "code",
   "execution_count": 8,
   "metadata": {},
   "outputs": [],
   "source": [
    "from scipy.spatial.distance import cdist\n",
    "\n",
    "def knn_edge_index(structure, k=30):\n",
    "    ca_coords = np.array([a.coord for a in structure if a.atom_name == 'CA'])\n",
    "    pdist = cdist(ca_coords, ca_coords, metric='euclidean')\n",
    "\n",
    "    topk_indices = pdist.argsort(axis=1)[:, 1:k+1]\n",
    "    edge_idx = np.array([[u, v] for u, neighbors in enumerate(topk_indices) for v in neighbors]).T\n",
    "\n",
    "    return edge_idx"
   ]
  },
  {
   "cell_type": "code",
   "execution_count": 9,
   "metadata": {},
   "outputs": [
    {
     "data": {
      "text/plain": [
       "array([[ 0,  0,  0, ..., 62, 62, 62],\n",
       "       [ 1,  2, 21, ..., 18, 29, 57]])"
      ]
     },
     "execution_count": 9,
     "metadata": {},
     "output_type": "execute_result"
    }
   ],
   "source": [
    "edge_idx = knn_edge_index(structure, k=30)\n",
    "edge_idx"
   ]
  },
  {
   "attachments": {},
   "cell_type": "markdown",
   "metadata": {},
   "source": [
    "## Backbone frame"
   ]
  },
  {
   "cell_type": "code",
   "execution_count": 60,
   "metadata": {},
   "outputs": [],
   "source": [
    "def to_four_atom_coordinates(atoms):\n",
    "    coords = np.array([a.coord for a in atoms])\n",
    "    return coords.reshape(-1, 4, 3)\n",
    "\n",
    "four_atoms = [a for a in structure if a.atom_name in ['N', 'CA', 'C', 'O']]\n",
    "four_atom_coords = to_four_atom_coordinates(four_atoms) # (#res, 4, 3)\n",
    "\n",
    "N_IDX, CA_IDX, C_IDX, O_IDX = 0, 1, 2, 3"
   ]
  },
  {
   "cell_type": "code",
   "execution_count": 77,
   "metadata": {},
   "outputs": [],
   "source": [
    "u = four_atom_coords[:, CA_IDX] - four_atom_coords[:, N_IDX]\n",
    "v = four_atom_coords[:, C_IDX] - four_atom_coords[:, CA_IDX]\n",
    "\n",
    "b = (u - v) / np.linalg.norm((u - v), axis=-1, keepdims=True)\n",
    "\n",
    "n = np.cross(u, v)\n",
    "n = n / np.linalg.norm(n, axis=-1, keepdims=True)\n",
    "\n",
    "q = np.concatenate([\n",
    "    b[:, :, None],\n",
    "    n[:, :, None],\n",
    "    np.cross(b, n)[:, :, None],\n",
    "], axis=-1)\n"
   ]
  },
  {
   "attachments": {},
   "cell_type": "markdown",
   "metadata": {},
   "source": [
    "## Node features\n",
    "\n",
    "### Distance features"
   ]
  },
  {
   "cell_type": "code",
   "execution_count": 32,
   "metadata": {},
   "outputs": [
    {
     "data": {
      "text/plain": [
       "(63, 96)"
      ]
     },
     "execution_count": 32,
     "metadata": {},
     "output_type": "execute_result"
    }
   ],
   "source": [
    "def rbf(dist, d_min=0, d_max=20, d_count=16):\n",
    "    d_mu = np.linspace(d_min, d_max, d_count).reshape(1, 1, 1, -1)\n",
    "    d_sigma = (d_max - d_min) / d_count\n",
    "    dist = dist[:, :, :, None]\n",
    "\n",
    "    return np.exp(-(dist - d_mu)**2 / (2 * d_sigma**2))\n",
    "\n",
    "four_atoms = [a for a in structure if a.atom_name in ['N', 'CA', 'C', 'O']]\n",
    "four_atom_coords = to_four_atom_coordinates(four_atoms) # (#res, 4, 3)\n",
    "\n",
    "dist = np.sqrt( ( (four_atom_coords[:, None, :, :] - four_atom_coords[:, :, None, :])**2 ).sum(axis=-1) )\n",
    "\n",
    "triu_indices = [1, 2, 3, 6, 7, 11]\n",
    "node_dist_feat = rbf(dist).reshape(-1, 4*4, 16)\n",
    "node_dist_feat = node_dist_feat[:, triu_indices, :].reshape(-1, 6 * 16)\n",
    "\n",
    "node_dist_feat.shape"
   ]
  },
  {
   "attachments": {},
   "cell_type": "markdown",
   "metadata": {},
   "source": [
    "### Angle features"
   ]
  },
  {
   "cell_type": "code",
   "execution_count": 50,
   "metadata": {},
   "outputs": [
    {
     "data": {
      "text/plain": [
       "(63, 6)"
      ]
     },
     "execution_count": 50,
     "metadata": {},
     "output_type": "execute_result"
    }
   ],
   "source": [
    "phi, psi, omega = np.nan_to_num( struc.dihedral_backbone(structure), 0.0)\n",
    "\n",
    "# angles\n",
    "backbone = structure[struc.filter_backbone(structure)]\n",
    "n = len(backbone)\n",
    "\n",
    "triplet_indices = np.array([\n",
    "    np.arange(n-2),\n",
    "    np.arange(1, n-1),\n",
    "    np.arange(2, n)\n",
    "]).T\n",
    "\n",
    "theta1 = struc.index_angle(backbone, triplet_indices[range(0, n-2, 3)])\n",
    "theta2 = struc.index_angle(backbone, triplet_indices[range(1, n-2, 3)])\n",
    "theta3 = struc.index_angle(backbone, triplet_indices[range(2, n-2, 3)])\n",
    "\n",
    "node_angle_feat = np.array([\n",
    "    phi,\n",
    "    psi,\n",
    "    omega,\n",
    "    theta1,\n",
    "    np.hstack([theta2, 0.0]), # theta2 is not defined for the last residue\n",
    "    np.hstack([theta3, 0.0]), # theta3 is not defined for the last residue\n",
    "]).T\n",
    "\n",
    "node_angle_feat.shape"
   ]
  },
  {
   "attachments": {},
   "cell_type": "markdown",
   "metadata": {},
   "source": [
    "### Direction features"
   ]
  },
  {
   "cell_type": "code",
   "execution_count": 26,
   "metadata": {},
   "outputs": [
    {
     "data": {
      "text/plain": [
       "(63, 4, 4, 16)"
      ]
     },
     "execution_count": 26,
     "metadata": {},
     "output_type": "execute_result"
    }
   ],
   "source": [
    "rbf(dist).shape"
   ]
  },
  {
   "cell_type": "code",
   "execution_count": 51,
   "metadata": {},
   "outputs": [
    {
     "data": {
      "text/plain": [
       "array([2, 2])"
      ]
     },
     "execution_count": 51,
     "metadata": {},
     "output_type": "execute_result"
    }
   ],
   "source": [
    "diff = arr[:, None, :] - arr2[None, :, :]\n",
    "\n",
    "diff[1][0]"
   ]
  },
  {
   "attachments": {},
   "cell_type": "markdown",
   "metadata": {},
   "source": [
    "## Edge features\n",
    "\n",
    "### Distance features"
   ]
  },
  {
   "cell_type": "code",
   "execution_count": 56,
   "metadata": {},
   "outputs": [
    {
     "data": {
      "text/plain": [
       "(1890, 256)"
      ]
     },
     "execution_count": 56,
     "metadata": {},
     "output_type": "execute_result"
    }
   ],
   "source": [
    "four_atoms = [a for a in structure if a.atom_name in ['N', 'CA', 'C', 'O']]\n",
    "four_atom_coords = to_four_atom_coordinates(four_atoms) # (#res, 4, 3)\n",
    "src_idx, dst_idx = edge_idx[0], edge_idx[1]\n",
    "four_atom_coords_i, four_atom_coords_j = four_atom_coords[src_idx], four_atom_coords[dst_idx]\n",
    "dist = np.sqrt( ( (four_atom_coords_i[:, None, :, :] - four_atom_coords_j[:, :, None, :])**2 ).sum(axis=-1) )\n",
    "\n",
    "dist = rbf(dist)\n",
    "\n",
    "dist = dist.reshape(len(dist), -1)\n",
    "dist.shape"
   ]
  }
 ],
 "metadata": {
  "kernelspec": {
   "display_name": "torch",
   "language": "python",
   "name": "torch"
  },
  "language_info": {
   "codemirror_mode": {
    "name": "ipython",
    "version": 3
   },
   "file_extension": ".py",
   "mimetype": "text/x-python",
   "name": "python",
   "nbconvert_exporter": "python",
   "pygments_lexer": "ipython3",
   "version": "3.10.10"
  },
  "orig_nbformat": 4
 },
 "nbformat": 4,
 "nbformat_minor": 2
}
