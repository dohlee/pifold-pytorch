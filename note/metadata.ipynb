{
 "cells": [
  {
   "cell_type": "code",
   "execution_count": 1,
   "metadata": {},
   "outputs": [
    {
     "name": "stderr",
     "output_type": "stream",
     "text": [
      "/usr/local/lib/python3.8/dist-packages/tqdm/auto.py:22: TqdmWarning: IProgress not found. Please update jupyter and ipywidgets. See https://ipywidgets.readthedocs.io/en/stable/user_install.html\n",
      "  from .autonotebook import tqdm as notebook_tqdm\n"
     ]
    }
   ],
   "source": [
    "import pandas as pd\n",
    "import glob\n",
    "import os\n",
    "import torch\n",
    "\n",
    "from collections import defaultdict"
   ]
  },
  {
   "cell_type": "code",
   "execution_count": 2,
   "metadata": {},
   "outputs": [
    {
     "data": {
      "text/plain": [
       "0"
      ]
     },
     "execution_count": 2,
     "metadata": {},
     "output_type": "execute_result"
    }
   ],
   "source": [
    "files = glob.glob('../data/preprocessed/*.pt')\n",
    "len(files)"
   ]
  },
  {
   "cell_type": "code",
   "execution_count": 35,
   "metadata": {},
   "outputs": [
    {
     "name": "stderr",
     "output_type": "stream",
     "text": [
      "100%|██████████| 30685/30685 [00:27<00:00, 1112.66it/s]\n"
     ]
    }
   ],
   "source": [
    "from tqdm import tqdm\n",
    "\n",
    "meta = defaultdict(list)\n",
    "for f in tqdm(files):\n",
    "    pid = os.path.basename(f).split('.')[0]\n",
    "    data = torch.load(f'../data/preprocessed/{pid}.pt')\n",
    "    \n",
    "    if len(data['aa_idx']) != len(data['node_angle_feat']):\n",
    "        continue\n",
    "        \n",
    "    if len(data['aa_idx']) != len(data['node_dir_feat']):\n",
    "        continue\n",
    "        \n",
    "    meta['id'].append(pid)\n",
    "    meta['num_residues'].append( len(data['aa_idx']) )\n",
    "    \n",
    "meta = pd.DataFrame(meta)"
   ]
  },
  {
   "cell_type": "code",
   "execution_count": 38,
   "metadata": {},
   "outputs": [],
   "source": [
    "meta[meta.num_residues >= 31].to_csv('../data/meta.csv', index=False)"
   ]
  },
  {
   "cell_type": "markdown",
   "metadata": {},
   "source": [
    "### GVP-CATH"
   ]
  },
  {
   "cell_type": "code",
   "execution_count": 45,
   "metadata": {},
   "outputs": [
    {
     "data": {
      "text/plain": [
       "21667"
      ]
     },
     "execution_count": 45,
     "metadata": {},
     "output_type": "execute_result"
    }
   ],
   "source": [
    "files = glob.glob('../data/gvp_preprocessed/*.pt')\n",
    "len(files)"
   ]
  },
  {
   "cell_type": "code",
   "execution_count": 46,
   "metadata": {},
   "outputs": [
    {
     "name": "stderr",
     "output_type": "stream",
     "text": [
      "100%|██████████| 21667/21667 [00:28<00:00, 769.20it/s]\n"
     ]
    }
   ],
   "source": [
    "from tqdm import tqdm\n",
    "\n",
    "meta = defaultdict(list)\n",
    "for f in tqdm(files):\n",
    "    pid = os.path.basename(f).split('.')[0]\n",
    "    data = torch.load(f'../data/gvp_preprocessed/{pid}.pt')\n",
    "    \n",
    "    if len(data['aa_idx']) != len(data['node_angle_feat']):\n",
    "        continue\n",
    "        \n",
    "    if len(data['aa_idx']) != len(data['node_dir_feat']):\n",
    "        continue\n",
    "        \n",
    "    meta['id'].append(pid)\n",
    "    meta['num_residues'].append( len(data['aa_idx']) )\n",
    "    \n",
    "meta = pd.DataFrame(meta)"
   ]
  },
  {
   "cell_type": "code",
   "execution_count": 53,
   "metadata": {},
   "outputs": [],
   "source": [
    "import json\n",
    "\n",
    "with open('../data/gvp-data/chain_set_splits.json') as inFile:\n",
    "    splits = json.loads(inFile.read())\n",
    "    \n",
    "train, val, test = set(splits['train']), set(splits['validation']), set(splits['test'])\n",
    "train = {id.replace('.', '_') for id in train}\n",
    "val = {id.replace('.', '_') for id in val}\n",
    "test = {id.replace('.', '_') for id in test}"
   ]
  },
  {
   "cell_type": "code",
   "execution_count": 51,
   "metadata": {},
   "outputs": [
    {
     "data": {
      "text/plain": [
       "(18024, 608, 1120)"
      ]
     },
     "execution_count": 51,
     "metadata": {},
     "output_type": "execute_result"
    }
   ],
   "source": [
    "len(train), len(val), len(test)"
   ]
  },
  {
   "cell_type": "code",
   "execution_count": 54,
   "metadata": {},
   "outputs": [],
   "source": [
    "meta['is_train'] = meta['id'].isin(train)\n",
    "meta['is_val'] = meta['id'].isin(val)\n",
    "meta['is_test'] = meta['id'].isin(test)"
   ]
  },
  {
   "cell_type": "code",
   "execution_count": 60,
   "metadata": {},
   "outputs": [],
   "source": [
    "meta[meta.is_train].to_csv('../data/meta.gvp_train.csv', index=False)\n",
    "meta[meta.is_val].to_csv('../data/meta.gvp_val.csv', index=False)\n",
    "meta[meta.is_test].to_csv('../data/meta.gvp_test.csv', index=False)"
   ]
  },
  {
   "cell_type": "code",
   "execution_count": 45,
   "metadata": {},
   "outputs": [],
   "source": [
    "train = pd.read_csv('../data/meta.gvp_train.csv')\n",
    "val = pd.read_csv('../data/meta.gvp_val.csv')\n",
    "test = pd.read_csv('../data/meta.gvp_test.csv')"
   ]
  },
  {
   "cell_type": "code",
   "execution_count": 19,
   "metadata": {},
   "outputs": [
    {
     "data": {
      "text/plain": [
       "<AxesSubplot: >"
      ]
     },
     "execution_count": 19,
     "metadata": {},
     "output_type": "execute_result"
    },
    {
     "data": {
      "image/png": "[encoded data removed]",
      "text/plain": [
       "<Figure size 640x480 with 1 Axes>"
      ]
     },
     "metadata": {},
     "output_type": "display_data"
    }
   ],
   "source": [
    "test['num_residues'].hist(bins=33)"
   ]
  },
  {
   "cell_type": "code",
   "execution_count": 20,
   "metadata": {},
   "outputs": [
    {
     "data": {
      "text/plain": [
       "<AxesSubplot: >"
      ]
     },
     "execution_count": 20,
     "metadata": {},
     "output_type": "execute_result"
    },
    {
     "data": {
      "image/png": "[encoded data removed]",
      "text/plain": [
       "<Figure size 640x480 with 1 Axes>"
      ]
     },
     "metadata": {},
     "output_type": "display_data"
    }
   ],
   "source": [
    "train['num_residues'].hist(bins=33)"
   ]
  },
  {
   "cell_type": "code",
   "execution_count": 42,
   "metadata": {},
   "outputs": [],
   "source": [
    "import numpy as np\n",
    "max_num_residues = train['num_residues'].max()\n",
    "train['bin'] = pd.cut(train['num_residues'], bins=np.linspace(0, max_num_residues, 10))\n",
    "train['p_sample'] = 1 / train['bin'].map(train['bin'].value_counts()).astype(int)\n",
    "train = train.drop('bin', axis=1)"
   ]
  },
  {
   "cell_type": "code",
   "execution_count": 43,
   "metadata": {},
   "outputs": [
    {
     "data": {
      "text/html": [
       "<div>\n",
       "<style scoped>\n",
       "    .dataframe tbody tr th:only-of-type {\n",
       "        vertical-align: middle;\n",
       "    }\n",
       "\n",
       "    .dataframe tbody tr th {\n",
       "        vertical-align: top;\n",
       "    }\n",
       "\n",
       "    .dataframe thead th {\n",
       "        text-align: right;\n",
       "    }\n",
       "</style>\n",
       "<table border=\"1\" class=\"dataframe\">\n",
       "  <thead>\n",
       "    <tr style=\"text-align: right;\">\n",
       "      <th></th>\n",
       "      <th>id</th>\n",
       "      <th>num_residues</th>\n",
       "      <th>is_train</th>\n",
       "      <th>is_val</th>\n",
       "      <th>is_test</th>\n",
       "      <th>p_sample</th>\n",
       "    </tr>\n",
       "  </thead>\n",
       "  <tbody>\n",
       "    <tr>\n",
       "      <th>0</th>\n",
       "      <td>2xw7_A</td>\n",
       "      <td>175</td>\n",
       "      <td>True</td>\n",
       "      <td>False</td>\n",
       "      <td>False</td>\n",
       "      <td>0.000368</td>\n",
       "    </tr>\n",
       "    <tr>\n",
       "      <th>1</th>\n",
       "      <td>1wxw_A</td>\n",
       "      <td>377</td>\n",
       "      <td>True</td>\n",
       "      <td>False</td>\n",
       "      <td>False</td>\n",
       "      <td>0.000605</td>\n",
       "    </tr>\n",
       "    <tr>\n",
       "      <th>2</th>\n",
       "      <td>3f5c_B</td>\n",
       "      <td>183</td>\n",
       "      <td>True</td>\n",
       "      <td>False</td>\n",
       "      <td>False</td>\n",
       "      <td>0.000368</td>\n",
       "    </tr>\n",
       "  </tbody>\n",
       "</table>\n",
       "</div>"
      ],
      "text/plain": [
       "       id  num_residues  is_train  is_val  is_test  p_sample\n",
       "0  2xw7_A           175      True   False    False  0.000368\n",
       "1  1wxw_A           377      True   False    False  0.000605\n",
       "2  3f5c_B           183      True   False    False  0.000368"
      ]
     },
     "execution_count": 43,
     "metadata": {},
     "output_type": "execute_result"
    }
   ],
   "source": [
    "train.head(3)"
   ]
  },
  {
   "cell_type": "code",
   "execution_count": 44,
   "metadata": {},
   "outputs": [],
   "source": [
    "train.to_csv('../data/meta.gvp_train.csv', index=False)"
   ]
  },
  {
   "cell_type": "code",
   "execution_count": null,
   "metadata": {},
   "outputs": [],
   "source": []
  },
  {
   "cell_type": "code",
   "execution_count": 40,
   "metadata": {},
   "outputs": [
    {
     "data": {
      "text/plain": [
       "0.000280    3568\n",
       "0.000308    3251\n",
       "0.000368    2721\n",
       "0.000386    2593\n",
       "0.000427    2341\n",
       "0.000605    1653\n",
       "0.000936    1068\n",
       "0.002123     471\n",
       "0.002793     358\n",
       "Name: p_sample, dtype: int64"
      ]
     },
     "execution_count": 40,
     "metadata": {},
     "output_type": "execute_result"
    }
   ],
   "source": [
    "train.p_sample.value_counts()"
   ]
  }
 ],
 "metadata": {
  "kernelspec": {
   "display_name": "Python 3 (ipykernel)",
   "language": "python",
   "name": "python3"
  },
  "language_info": {
   "codemirror_mode": {
    "name": "ipython",
    "version": 3
   },
   "file_extension": ".py",
   "mimetype": "text/x-python",
   "name": "python",
   "nbconvert_exporter": "python",
   "pygments_lexer": "ipython3",
   "version": "3.8.10"
  }
 },
 "nbformat": 4,
 "nbformat_minor": 4
}
