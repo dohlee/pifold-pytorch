{
 "cells": [
  {
   "cell_type": "code",
   "execution_count": 18,
   "metadata": {},
   "outputs": [],
   "source": [
    "import pandas as pd\n",
    "import glob\n",
    "import os\n",
    "import torch\n",
    "\n",
    "from collections import defaultdict"
   ]
  },
  {
   "cell_type": "code",
   "execution_count": 16,
   "metadata": {},
   "outputs": [
    {
     "data": {
      "text/plain": [
       "30685"
      ]
     },
     "execution_count": 16,
     "metadata": {},
     "output_type": "execute_result"
    }
   ],
   "source": [
    "files = glob.glob('../data/preprocessed/*.pt')\n",
    "len(files)"
   ]
  },
  {
   "cell_type": "code",
   "execution_count": 35,
   "metadata": {},
   "outputs": [
    {
     "name": "stderr",
     "output_type": "stream",
     "text": [
      "100%|██████████| 30685/30685 [00:27<00:00, 1112.66it/s]\n"
     ]
    }
   ],
   "source": [
    "from tqdm import tqdm\n",
    "\n",
    "meta = defaultdict(list)\n",
    "for f in tqdm(files):\n",
    "    pid = os.path.basename(f).split('.')[0]\n",
    "    data = torch.load(f'../data/preprocessed/{pid}.pt')\n",
    "    \n",
    "    if len(data['aa_idx']) != len(data['node_angle_feat']):\n",
    "        continue\n",
    "        \n",
    "    if len(data['aa_idx']) != len(data['node_dir_feat']):\n",
    "        continue\n",
    "        \n",
    "    meta['id'].append(pid)\n",
    "    meta['num_residues'].append( len(data['aa_idx']) )\n",
    "    \n",
    "meta = pd.DataFrame(meta)"
   ]
  },
  {
   "cell_type": "code",
   "execution_count": 38,
   "metadata": {},
   "outputs": [],
   "source": [
    "meta[meta.num_residues >= 31].to_csv('../data/meta.csv', index=False)"
   ]
  },
  {
   "cell_type": "code",
   "execution_count": 40,
   "metadata": {},
   "outputs": [
    {
     "data": {
      "text/plain": [
       "(30446, 2)"
      ]
     },
     "execution_count": 40,
     "metadata": {},
     "output_type": "execute_result"
    }
   ],
   "source": [
    "meta[meta.num_residues >= 31].shape"
   ]
  },
  {
   "cell_type": "code",
   "execution_count": 34,
   "metadata": {},
   "outputs": [
    {
     "data": {
      "text/plain": [
       "(30480, 2)"
      ]
     },
     "execution_count": 34,
     "metadata": {},
     "output_type": "execute_result"
    }
   ],
   "source": [
    "meta[meta.num_residues >= 30].shape"
   ]
  },
  {
   "cell_type": "markdown",
   "metadata": {},
   "source": [
    "### GVP-CATH"
   ]
  },
  {
   "cell_type": "code",
   "execution_count": 45,
   "metadata": {},
   "outputs": [
    {
     "data": {
      "text/plain": [
       "21667"
      ]
     },
     "execution_count": 45,
     "metadata": {},
     "output_type": "execute_result"
    }
   ],
   "source": [
    "files = glob.glob('../data/gvp_preprocessed/*.pt')\n",
    "len(files)"
   ]
  },
  {
   "cell_type": "code",
   "execution_count": 46,
   "metadata": {},
   "outputs": [
    {
     "name": "stderr",
     "output_type": "stream",
     "text": [
      "100%|██████████| 21667/21667 [00:28<00:00, 769.20it/s]\n"
     ]
    }
   ],
   "source": [
    "from tqdm import tqdm\n",
    "\n",
    "meta = defaultdict(list)\n",
    "for f in tqdm(files):\n",
    "    pid = os.path.basename(f).split('.')[0]\n",
    "    data = torch.load(f'../data/gvp_preprocessed/{pid}.pt')\n",
    "    \n",
    "    if len(data['aa_idx']) != len(data['node_angle_feat']):\n",
    "        continue\n",
    "        \n",
    "    if len(data['aa_idx']) != len(data['node_dir_feat']):\n",
    "        continue\n",
    "        \n",
    "    meta['id'].append(pid)\n",
    "    meta['num_residues'].append( len(data['aa_idx']) )\n",
    "    \n",
    "meta = pd.DataFrame(meta)"
   ]
  },
  {
   "cell_type": "code",
   "execution_count": 53,
   "metadata": {},
   "outputs": [],
   "source": [
    "import json\n",
    "\n",
    "with open('../data/gvp-data/chain_set_splits.json') as inFile:\n",
    "    splits = json.loads(inFile.read())\n",
    "    \n",
    "train, val, test = set(splits['train']), set(splits['validation']), set(splits['test'])\n",
    "train = {id.replace('.', '_') for id in train}\n",
    "val = {id.replace('.', '_') for id in val}\n",
    "test = {id.replace('.', '_') for id in test}"
   ]
  },
  {
   "cell_type": "code",
   "execution_count": 51,
   "metadata": {},
   "outputs": [
    {
     "data": {
      "text/plain": [
       "(18024, 608, 1120)"
      ]
     },
     "execution_count": 51,
     "metadata": {},
     "output_type": "execute_result"
    }
   ],
   "source": [
    "len(train), len(val), len(test)"
   ]
  },
  {
   "cell_type": "code",
   "execution_count": 54,
   "metadata": {},
   "outputs": [],
   "source": [
    "meta['is_train'] = meta['id'].isin(train)\n",
    "meta['is_val'] = meta['id'].isin(val)\n",
    "meta['is_test'] = meta['id'].isin(test)"
   ]
  },
  {
   "cell_type": "code",
   "execution_count": 60,
   "metadata": {},
   "outputs": [],
   "source": [
    "meta[meta.is_train].to_csv('../data/meta.gvp_train.csv', index=False)\n",
    "meta[meta.is_val].to_csv('../data/meta.gvp_val.csv', index=False)\n",
    "meta[meta.is_test].to_csv('../data/meta.gvp_test.csv', index=False)"
   ]
  }
 ],
 "metadata": {
  "kernelspec": {
   "display_name": "torch",
   "language": "python",
   "name": "torch"
  },
  "language_info": {
   "codemirror_mode": {
    "name": "ipython",
    "version": 3
   },
   "file_extension": ".py",
   "mimetype": "text/x-python",
   "name": "python",
   "nbconvert_exporter": "python",
   "pygments_lexer": "ipython3",
   "version": "3.10.10"
  }
 },
 "nbformat": 4,
 "nbformat_minor": 4
}
