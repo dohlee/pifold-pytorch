{
 "cells": [
  {
   "cell_type": "code",
   "execution_count": 115,
   "metadata": {},
   "outputs": [],
   "source": [
    "import json\n",
    "import os\n",
    "import numpy as np\n",
    "import torch\n",
    "import biotite.structure as struc\n",
    "\n",
    "from tqdm import tqdm\n",
    "from biotite.structure.io.pdb import PDBFile"
   ]
  },
  {
   "cell_type": "code",
   "execution_count": 3,
   "metadata": {},
   "outputs": [],
   "source": [
    "with open('../data/gvp-data/chain_set_splits.json') as inFile:\n",
    "    splits = json.loads(inFile.read())"
   ]
  },
  {
   "cell_type": "code",
   "execution_count": 4,
   "metadata": {},
   "outputs": [
    {
     "data": {
      "text/plain": [
       "(18024, 608, 1120)"
      ]
     },
     "execution_count": 4,
     "metadata": {},
     "output_type": "execute_result"
    }
   ],
   "source": [
    "len(splits['train']), len(splits['validation']), len(splits['test'])"
   ]
  },
  {
   "cell_type": "code",
   "execution_count": 119,
   "metadata": {},
   "outputs": [],
   "source": [
    "oneletter2threeletter = {\n",
    "    \"A\": \"ALA\",\n",
    "    \"R\": \"ARG\",\n",
    "    \"N\": \"ASN\",\n",
    "    \"D\": \"ASP\",\n",
    "    \"C\": \"CYS\",\n",
    "\n",
    "    \"Q\": \"GLN\",\n",
    "    \"E\": \"GLU\",\n",
    "    \"G\": \"GLY\",\n",
    "    \"H\": \"HIS\",\n",
    "    \"I\": \"ILE\",\n",
    "\n",
    "    \"L\": \"LEU\",\n",
    "    \"K\": \"LYS\",\n",
    "    \"M\": \"MET\",\n",
    "    \"F\": \"PHE\",\n",
    "    \"P\": \"PRO\",\n",
    "\n",
    "\n",
    "    \"S\": \"SER\",\n",
    "    \"T\": \"THR\",\n",
    "    \"W\": \"TRP\",\n",
    "    \"Y\": \"TYR\",\n",
    "    \"V\": \"VAL\",\n",
    "    \n",
    "    \"U\": \"SEC\",\n",
    "    \"X\": \"SEC\", # Just a hack to avoid backbone filtering.\n",
    "    \"O\": \"PYL\",\n",
    "    \"B\": \"ASP\", # Here too, should be \"ASX\".\n",
    "}"
   ]
  },
  {
   "cell_type": "code",
   "execution_count": 120,
   "metadata": {},
   "outputs": [
    {
     "name": "stderr",
     "output_type": "stream",
     "text": [
      "21668it [11:57, 30.19it/s]\n"
     ]
    }
   ],
   "source": [
    "with open('../data/gvp-data/chain_set.jsonl') as inFile:\n",
    "    for i, l in tqdm(enumerate(inFile.readlines())):\n",
    "        chainset = json.loads(l)\n",
    "        \n",
    "        name = chainset['name'].replace('.', '_')\n",
    "        if os.path.exists(f'../data/gvp_pdb/{name}.pdb'):\n",
    "            continue    \n",
    "        \n",
    "        coordinates = np.concatenate(\n",
    "            [np.array(chainset['coords']['N'])[:, None, :],\n",
    "            np.array(chainset['coords']['CA'])[:, None, :],\n",
    "            np.array(chainset['coords']['C'])[:, None, :],\n",
    "            np.array(chainset['coords']['O'])[:, None, :]],\n",
    "            axis=1,\n",
    "        )\n",
    "        mask = np.isfinite(coordinates).all(axis=1).all(axis=1)\n",
    "        coordinates = coordinates[mask].reshape(-1, 3)\n",
    "        seq = [c for m, c in zip(mask, chainset['seq']) if m]\n",
    "        \n",
    "        num_residues = len(coordinates) // 4\n",
    "        structure = struc.AtomArray(len(coordinates))\n",
    "        structure.coord = coordinates\n",
    "        structure.chain_id = ['A'] * len(coordinates)\n",
    "        structure.atom_name = ['N', 'CA', 'C', 'O'] * (num_residues)\n",
    "        res_names = []\n",
    "        for c in seq:\n",
    "            for _ in range(4):\n",
    "                res_names.append(oneletter2threeletter[c])\n",
    "        structure.res_name = res_names\n",
    "        structure.res_id = np.repeat( range(1, num_residues + 1), 4 )\n",
    "\n",
    "        pdb = PDBFile()\n",
    "        pdb.set_structure(structure)\n",
    "        pdb.write(f'../data/gvp_pdb/{name}.pdb')"
   ]
  },
  {
   "cell_type": "code",
   "execution_count": 6,
   "metadata": {},
   "outputs": [
    {
     "data": {
      "text/plain": [
       "dict_keys(['seq', 'coords', 'num_chains', 'name', 'CATH'])"
      ]
     },
     "execution_count": 6,
     "metadata": {},
     "output_type": "execute_result"
    }
   ],
   "source": [
    "chainset.keys()"
   ]
  },
  {
   "cell_type": "code",
   "execution_count": 7,
   "metadata": {},
   "outputs": [
    {
     "data": {
      "text/plain": [
       "True"
      ]
     },
     "execution_count": 7,
     "metadata": {},
     "output_type": "execute_result"
    }
   ],
   "source": [
    "len(chainset['seq']) == len(chainset['coords']['N']) == len(chainset['coords']['C']) == len(chainset['coords']['CA']) == len(chainset['coords']['O'])"
   ]
  },
  {
   "cell_type": "code",
   "execution_count": 91,
   "metadata": {},
   "outputs": [
    {
     "data": {
      "text/plain": [
       "'XNEGDAAKGEKEFNKCKACHMIQAPDGTDIKGGKTGPNLYGVVGRKIASEEGFKYGEGILEVAEKNPDLTWTEANLIEYVTDPKPLVKKMTDDKGAKTKMTFKMGKNQADVVAFLAQDDPDAXXXXXXXXXXXXX'"
      ]
     },
     "execution_count": 91,
     "metadata": {},
     "output_type": "execute_result"
    }
   ],
   "source": [
    "chainset['seq']"
   ]
  },
  {
   "cell_type": "code",
   "execution_count": 94,
   "metadata": {},
   "outputs": [],
   "source": [
    "\n",
    "\n",
    "num_residues = len(coordinates) // 4\n",
    "structure = struc.AtomArray(len(coordinates))\n",
    "structure.coord = coordinates\n",
    "structure.chain_id = ['A'] * len(coordinates)\n",
    "structure.atom_name = ['N', 'CA', 'C', 'O'] * (num_residues)\n",
    "res_names = []\n",
    "for c in seq:\n",
    "    for _ in range(4):\n",
    "        res_names.append(oneletter2threeletter[c])\n",
    "structure.res_name = res_names\n",
    "structure.res_id = np.repeat( range(1, num_residues + 1), 4 )\n",
    "\n",
    "pdb = PDBFile()\n",
    "pdb.set_structure(structure)\n",
    "pdb.write('test.pdb')"
   ]
  },
  {
   "cell_type": "code",
   "execution_count": 103,
   "metadata": {},
   "outputs": [],
   "source": [
    "t = torch.load('test.pt')"
   ]
  }
 ],
 "metadata": {
  "kernelspec": {
   "display_name": "torch",
   "language": "python",
   "name": "torch"
  },
  "language_info": {
   "codemirror_mode": {
    "name": "ipython",
    "version": 3
   },
   "file_extension": ".py",
   "mimetype": "text/x-python",
   "name": "python",
   "nbconvert_exporter": "python",
   "pygments_lexer": "ipython3",
   "version": "3.10.10"
  }
 },
 "nbformat": 4,
 "nbformat_minor": 4
}
